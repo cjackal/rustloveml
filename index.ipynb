{
 "cells": [
  {
   "cell_type": "markdown",
   "metadata": {
    "slideshow": {
     "slide_type": "slide"
    }
   },
   "source": [
    "# Rust ♡ ML\n",
    "## ML Engineer 관점에서의 rust 사용기\n",
    "\n",
    "2023.10.30\n",
    "\n",
    "김주현"
   ]
  },
  {
   "cell_type": "markdown",
   "metadata": {
    "slideshow": {
     "slide_type": "slide"
    }
   },
   "source": [
    "# 목차\n",
    "- rust란?\n",
    "- rust vs cpp\n",
    "- rust in wild\n",
    "- sample code"
   ]
  },
  {
   "cell_type": "markdown",
   "metadata": {
    "slideshow": {
     "slide_type": "slide"
    }
   },
   "source": [
    "# rust란?\n",
    "\n",
    "<p style=\"text-align: center\">\n",
    "<img src=\"https://www.rust-lang.org/static/images/rust-logo-blk.svg\" height=\"85\" width=\"85\"/>\n",
    "<img src=\"https://upload.wikimedia.org/wikipedia/commons/2/20/Rustacean-orig-noshadow.svg\" height=\"85\" width=\"128\"/>\n",
    "</p>\n",
    "\n",
    "- https://www.rust-lang.org/\n",
    "- 출시일: 2015.05.15\n",
    "\n",
    "![](./images/whyrust.png)"
   ]
  },
  {
   "cell_type": "markdown",
   "metadata": {
    "slideshow": {
     "slide_type": "subslide"
    }
   },
   "source": [
    "## 특징\n",
    "- 언어 디자인적 장점\n",
    "  - safety guarantees (type-safe, memory-safe, thread-safe, ...)\n",
    "  - trait(=interface) 기반 polymorphism 구현\n",
    "- easy async/concurrency\n",
    "  - Arc (thread-safe refcount)\n",
    "  - tokio (async runtime)\n",
    "  - rayon\n",
    "- bettery-included devtools\n",
    "  - cargo\n",
    "  - rust-doc\n",
    "  - clippy\n",
    "  - rust-analyzer\n",
    "- easy (de)serialization\n",
    "  - serde\n",
    "- easy FFI\n",
    "  - cross-language LTO (c/cpp)\n",
    "- easy integration with python\n",
    "  - maturin (pyO3)"
   ]
  },
  {
   "cell_type": "markdown",
   "metadata": {
    "slideshow": {
     "slide_type": "slide"
    }
   },
   "source": [
    "## rust 사용자들 (awesome-rust-ml)\n",
    "- [huggingface/tokenizers](https://github.com/huggingface/tokenizers)\n",
    "  - \"extremely fast\" tokenizer library\n",
    "- [huggingface/safetensors](https://github.com/huggingface/safetensors)\n",
    "  - pickle 없는 zero-copy weight serde format\n",
    "- [pola-rs/polars](https://github.com/pola-rs/polars)\n",
    "  - \"blazingly-fast\" dataframe + OLAP engine library (차세대 pandas)\n",
    "- [pydantic/pydantic](https://github.com/pydantic/pydantic)\n",
    "  - type hint 기반 data validation library"
   ]
  }
 ],
 "metadata": {
  "kernelspec": {
   "display_name": ".venv",
   "language": "python",
   "name": "python3"
  },
  "language_info": {
   "name": "python",
   "version": "3.10.6"
  }
 },
 "nbformat": 4,
 "nbformat_minor": 2
}
